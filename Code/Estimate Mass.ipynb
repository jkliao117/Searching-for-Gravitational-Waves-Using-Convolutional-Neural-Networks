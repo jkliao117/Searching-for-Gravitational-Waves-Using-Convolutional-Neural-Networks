{
 "cells": [
  {
   "cell_type": "code",
   "execution_count": null,
   "metadata": {},
   "outputs": [],
   "source": [
    "from __future__ import absolute_import, division, print_function, unicode_literals\n",
    "\n",
    "import tensorflow as tf\n",
    "from tensorflow import keras\n",
    "from tensorflow.keras import datasets, layers, models\n",
    "\n",
    "import numpy as np\n",
    "import matplotlib.pyplot as plt\n",
    "from matplotlib.ticker import PercentFormatter"
   ]
  },
  {
   "cell_type": "code",
   "execution_count": null,
   "metadata": {},
   "outputs": [],
   "source": [
    "from ipynb.fs.full.LIGO_data_simulation_functions import noise, wave, dataset, norm"
   ]
  },
  {
   "cell_type": "code",
   "execution_count": null,
   "metadata": {},
   "outputs": [],
   "source": [
    "fs = 4096\n",
    "dt = 1/fs\n",
    "data_size = 5*fs\n",
    "sample_size = 10000"
   ]
  },
  {
   "cell_type": "code",
   "execution_count": null,
   "metadata": {},
   "outputs": [],
   "source": [
    "train_data, train_labels= dataset(sample_size,data_size)\n",
    "test_data, test_labels = dataset(sample_size,data_size)\n",
    "train_data = norm(train_data)\n",
    "test_data = norm(test_data)"
   ]
  },
  {
   "cell_type": "code",
   "execution_count": null,
   "metadata": {},
   "outputs": [],
   "source": [
    "train_chirp_m = train_labels[:,0]\n",
    "train_d = train_labels[:,1]\n",
    "train_snr = train_labels[:,2]\n",
    "test_chirp_m = test_labels[:,0]\n",
    "test_d = test_labels[:,1]\n",
    "test_snr = test_labels[:,2]"
   ]
  },
  {
   "cell_type": "code",
   "execution_count": null,
   "metadata": {},
   "outputs": [],
   "source": [
    "train_pm = train_labels[:,:2]\n",
    "test_pm = test_labels[:,:2]"
   ]
  },
  {
   "cell_type": "code",
   "execution_count": null,
   "metadata": {},
   "outputs": [],
   "source": [
    "np.savez(\"/Users/jkliao117/Desktop/simulated data/pm_new/train data.npz\", train_data = train_data)\n",
    "np.savez(\"/Users/jkliao117/Desktop/simulated data/pm_new/train labels.npz\", train_labels = train_labels)\n",
    "np.savez(\"/Users/jkliao117/Desktop/simulated data/pm_new/test data.npz\", test_data = test_data)\n",
    "np.savez(\"/Users/jkliao117/Desktop/simulated data/pm_new/test labels.npz\", test_labels = test_labels)"
   ]
  },
  {
   "cell_type": "code",
   "execution_count": null,
   "metadata": {},
   "outputs": [],
   "source": [
    "train_data = np.load(\"/Users/jkliao117/Desktop/simulated data/pm_new/train data.npz\")['train_data']\n",
    "train_labels = np.load(\"/Users/jkliao117/Desktop/simulated data/pm_new/train labels.npz\")['train_labels']\n",
    "test_data = np.load(\"/Users/jkliao117/Desktop/simulated data/pm_new/test data.npz\")['test_data']\n",
    "test_labels = np.load(\"/Users/jkliao117/Desktop/simulated data/pm_new/test labels.npz\")['test_labels']"
   ]
  },
  {
   "cell_type": "code",
   "execution_count": null,
   "metadata": {},
   "outputs": [],
   "source": [
    "model = models.Sequential([\n",
    "    layers.Reshape((train_data.shape[-1],1),input_shape=[train_data.shape[-1]]),\n",
    "    layers.Conv1D(16,1, activation='relu'),\n",
    "    layers.MaxPooling1D(4),\n",
    "    layers.Dense(16, activation='relu'),\n",
    "    layers.Conv1D(8,1, activation='relu'),\n",
    "    layers.MaxPooling1D(4),\n",
    "    layers.Dense(8, activation='relu'),\n",
    "    layers.Flatten(),\n",
    "    layers.Dense(256, activation='relu'),\n",
    "    layers.Dense(256, activation='linear'),\n",
    "    layers.Dense(128, activation='relu'),\n",
    "    layers.Dense(128, activation='linear'),\n",
    "    layers.Dense(64, activation='relu'),\n",
    "    layers.Dense(64, activation='linear'),\n",
    "    layers.Dense(32, activation='relu'),\n",
    "    layers.Dense(32, activation='linear'),\n",
    "    layers.Dense(1, activation='relu')\n",
    "  ])\n",
    "model.compile(optimizer='adam',\n",
    "              loss='mean_squared_error', \n",
    "              metrics=['mean_squared_error'])\n",
    "model.summary()"
   ]
  },
  {
   "cell_type": "code",
   "execution_count": null,
   "metadata": {},
   "outputs": [],
   "source": [
    "history = model.fit(train_data, train_chirp_m, epochs=30, # 30 epochs\n",
    "                    validation_data=(test_data, test_chirp_m))"
   ]
  },
  {
   "cell_type": "code",
   "execution_count": null,
   "metadata": {},
   "outputs": [],
   "source": [
    "model.save_weights(\"/Users/jkliao117/Desktop/simulated data/pm_new/new_mass_model_weights.ckpt\".format(epoch=30))"
   ]
  },
  {
   "cell_type": "code",
   "execution_count": null,
   "metadata": {},
   "outputs": [],
   "source": [
    "model.load_weights(\"/Users/jkliao117/Desktop/simulated data/pm_new/new_mass_model_weights.ckpt\")"
   ]
  },
  {
   "cell_type": "code",
   "execution_count": null,
   "metadata": {},
   "outputs": [],
   "source": [
    "test_loss, test_acc = model.evaluate(test_data, test_chirp_m, verbose=2)"
   ]
  },
  {
   "cell_type": "code",
   "execution_count": null,
   "metadata": {},
   "outputs": [],
   "source": [
    "predictions = np.reshape(model.predict(test_data),(sample_size,))\n",
    "difference = test_chirp_m-predictions"
   ]
  },
  {
   "cell_type": "code",
   "execution_count": null,
   "metadata": {},
   "outputs": [],
   "source": [
    "plt.figure(figsize=(10,8))\n",
    "x = np.arange(0,100,1)\n",
    "plt.scatter(test_chirp_m,predictions,alpha=0.25)\n",
    "plt.plot(x,x,'r',alpha=0.5)\n",
    "plt.xlim(0,100)\n",
    "plt.ylim(0,100)\n",
    "plt.grid()\n",
    "plt.xlabel(\"true chirp mass ($M_{\\odot}$)\",fontsize=35)\n",
    "plt.ylabel(\"predicted chirp mass ($M_{\\odot}$)\",fontsize=35)\n",
    "plt.xticks(fontsize=30)\n",
    "plt.yticks(fontsize=30)\n",
    "plt.tight_layout()\n",
    "#plt.savefig('/Users/jkliao117/Desktop/prediction vs label', transparent=True)"
   ]
  },
  {
   "cell_type": "code",
   "execution_count": null,
   "metadata": {},
   "outputs": [],
   "source": [
    "plt.figure(figsize=(12.5,8))\n",
    "plt.hist(difference,bins=50,density=True)\n",
    "plt.xlabel(\"difference between predcition and label\",fontsize=35)\n",
    "plt.ylabel(\"number of samples\",fontsize=35)\n",
    "plt.xticks(fontsize=30)\n",
    "plt.yticks(fontsize=30)\n",
    "plt.locator_params(axis='x',nbins=8)\n",
    "plt.locator_params(axis='y',nbins=8)\n",
    "plt.gca().yaxis.set_major_formatter(PercentFormatter(xmax=1))"
   ]
  },
  {
   "cell_type": "code",
   "execution_count": null,
   "metadata": {},
   "outputs": [],
   "source": [
    "chirp_m_error = np.mean(np.abs(difference)/test_chirp_m)\n",
    "print(chirp_m_error)"
   ]
  },
  {
   "cell_type": "code",
   "execution_count": null,
   "metadata": {},
   "outputs": [],
   "source": [
    "plt.figure(figsize=(10,8))\n",
    "mask = (test_snr<10)\n",
    "plt.scatter(test_snr[mask],np.abs(difference)[mask],alpha=0.1)"
   ]
  }
 ],
 "metadata": {
  "kernelspec": {
   "display_name": "Python 3",
   "language": "python",
   "name": "python3"
  },
  "language_info": {
   "codemirror_mode": {
    "name": "ipython",
    "version": 3
   },
   "file_extension": ".py",
   "mimetype": "text/x-python",
   "name": "python",
   "nbconvert_exporter": "python",
   "pygments_lexer": "ipython3",
   "version": "3.7.3"
  }
 },
 "nbformat": 4,
 "nbformat_minor": 2
}
