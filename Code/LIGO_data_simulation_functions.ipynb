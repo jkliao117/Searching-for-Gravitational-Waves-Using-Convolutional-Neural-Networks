{
 "cells": [
  {
   "cell_type": "code",
   "execution_count": null,
   "metadata": {},
   "outputs": [],
   "source": [
    "import numpy as np\n",
    "import pylab\n",
    "import matplotlib.pyplot as plt\n",
    "import matplotlib.mlab as mlab\n",
    "from scipy import signal\n",
    "from scipy import interpolate\n",
    "from scipy.fftpack import fft\n",
    "from scipy.signal import hilbert\n",
    "from pycbc.waveform import get_td_waveform"
   ]
  },
  {
   "cell_type": "code",
   "execution_count": null,
   "metadata": {},
   "outputs": [],
   "source": [
    "# define sampling frequency\n",
    "fs = 4096\n",
    "dt = 1/fs"
   ]
  },
  {
   "cell_type": "code",
   "execution_count": null,
   "metadata": {},
   "outputs": [],
   "source": [
    "# load psd data\n",
    "avg_psd_H1 = np.load(\"/Users/jkliao117/Desktop/MSci/avg psd H1.npz\")['avg_psd_H1']\n",
    "avg_psd_L1 = np.load(\"/Users/jkliao117/Desktop/MSci/avg psd L1.npz\")['avg_psd_L1']\n",
    "psdfreqs = np.load(\"/Users/jkliao117/Desktop/MSci/psd freqs.npz\")['psdfreqs']"
   ]
  },
  {
   "cell_type": "code",
   "execution_count": null,
   "metadata": {},
   "outputs": [],
   "source": [
    "# generate noise\n",
    "def noise(data_size, f_high_pass = 35, f_low_pass = 350):\n",
    "    # define sampled frequency points using the specified data size\n",
    "    freqs = np.fft.rfftfreq(data_size, d=1/fs)\n",
    "    # obtain complete power spectrum by interpolation of avergae psd\n",
    "    interp_func = interpolate.interp1d(psdfreqs,avg_psd_H1)\n",
    "    power = interp_func(freqs)\n",
    "    # generate noise in frequency domian using  power spectrum\n",
    "    fnoise = np.random.normal(0,np.sqrt(power/2.))+1.j*np.random.normal(0,np.sqrt(power/2.))\n",
    "    # define bandpass frequencies\n",
    "    mask = (freqs > f_high_pass) & (freqs < f_low_pass)\n",
    "    # define window\n",
    "    bandp = signal.tukey(np.sum(mask),alpha=0.25)\n",
    "    # bandpass and window noise \n",
    "    fnoise_banded = np.zeros_like(fnoise)\n",
    "    fnoise_banded[mask] = fnoise[mask]*bandp\n",
    "    # inverse FFT back to time domain \n",
    "    tnoise = (fs**0.5)*np.fft.irfft(fnoise_banded, norm=\"ortho\")\n",
    "    return tnoise"
   ]
  },
  {
   "cell_type": "code",
   "execution_count": null,
   "metadata": {},
   "outputs": [],
   "source": [
    "# generate GW signal\n",
    "def wave(data_size, m1 =50, m2 = 50, d = 500):\n",
    "    # generate gravitational wave using pycbc package\n",
    "    hp, hc = get_td_waveform(approximant = 'SEOBNRv2',\n",
    "                                mass1 = m1,\n",
    "                                mass2 = m2,\n",
    "                                delta_t = dt,\n",
    "                                f_lower = 30, #Lowest frequency\n",
    "                                distance = d # Luminosity Distance in Mpc\n",
    "                            )\n",
    "    h = np.asarray(hp)\n",
    "    # find time duration of wave\n",
    "    h_time = np.asarray(hp.sample_times)\n",
    "    wave_size = h_time.shape[0]\n",
    "    # hilbert transform\n",
    "    analytic_signal = hilbert(h)\n",
    "    # get amplitude, phase, and angular frequency\n",
    "    amplitude_envelope = np.abs(analytic_signal)\n",
    "    inst_phase = np.unwrap(np.angle(analytic_signal))\n",
    "    inst_ang_frequency = np.diff(inst_phase)/(2.*np.pi)\n",
    "    # randomise start time of GW event \n",
    "    start_time = int(np.random.uniform(0,data_size-wave_size))\n",
    "    end_time = int(start_time+wave_size)\n",
    "    \n",
    "    GW_signal = np.zeros([data_size])\n",
    "    # add gravitational wave\n",
    "    GW_signal[start_time:end_time] = h\n",
    "    # add cosine wave before gravitational wave using the amplitude, phase, and angular frequency found previously\n",
    "    pre_h_time = np.arange(start_time)\n",
    "    GW_signal[:start_time] = amplitude_envelope[102]*np.cos(inst_phase[102]-2*np.pi*inst_ang_frequency[102]*pre_h_time)\n",
    "    return GW_signal, end_time"
   ]
  },
  {
   "cell_type": "code",
   "execution_count": null,
   "metadata": {},
   "outputs": [],
   "source": [
    "# generate simulated data\n",
    "def classify_dataset(num,data_size):\n",
    "    sim_data_dataset= np.zeros((num,data_size))\n",
    "    labels = np.zeros((num,2))\n",
    "    for idx in range(num):\n",
    "        a = np.random.uniform()\n",
    "        noise_data = noise(data_size, f_high_pass = 35, f_low_pass = 350)\n",
    "        if a > 0.5: \n",
    "            m1 = np.random.uniform(10,100)\n",
    "            m2 = np.random.uniform(10,m1)\n",
    "            d = np.random.uniform(100,1000)\n",
    "            signal_data, end_time = wave(data_size, m1, m2, d)\n",
    "            snr = np.sum(np.abs(signal_data[:end_time])**2)/np.sum(np.abs(noise_data[:end_time])**2)\n",
    "            labels[idx] = 1, snr\n",
    "            sim_data_dataset[idx] = noise_data + signal_data\n",
    "        else:\n",
    "            sim_data_dataset[idx] = noise_data\n",
    "    return sim_data_dataset, labels"
   ]
  },
  {
   "cell_type": "code",
   "execution_count": null,
   "metadata": {},
   "outputs": [],
   "source": [
    "# generate simulated data\n",
    "def dataset(num,data_size):\n",
    "    sim_data_dataset= np.zeros((num,data_size))\n",
    "    labels = np.zeros((num,2))\n",
    "    for idx in range(num):\n",
    "        noise_data= noise(data_size, f_high_pass = 35, f_low_pass = 350)\n",
    "        m1 = np.random.uniform(10,100)\n",
    "        m2 = np.random.uniform(10,m1)\n",
    "        d = np.random.uniform(100,1000)\n",
    "        chirp_m = ((m1*m2)**0.6)/((m1+m2)**0.2)\n",
    "        signal_data, end_time = wave(data_size, m1, m2, d)\n",
    "        labels[idx] = chirp_m, d\n",
    "        sim_data_dataset[idx] = noise_data + signal_data\n",
    "    return sim_data_dataset, labels"
   ]
  },
  {
   "cell_type": "code",
   "execution_count": null,
   "metadata": {},
   "outputs": [],
   "source": [
    "def norm(x):\n",
    "    return (x-np.mean(x))/ np.std(x)"
   ]
  }
 ],
 "metadata": {
  "kernelspec": {
   "display_name": "Python 3",
   "language": "python",
   "name": "python3"
  },
  "language_info": {
   "codemirror_mode": {
    "name": "ipython",
    "version": 3
   },
   "file_extension": ".py",
   "mimetype": "text/x-python",
   "name": "python",
   "nbconvert_exporter": "python",
   "pygments_lexer": "ipython3",
   "version": "3.7.3"
  }
 },
 "nbformat": 4,
 "nbformat_minor": 2
}
