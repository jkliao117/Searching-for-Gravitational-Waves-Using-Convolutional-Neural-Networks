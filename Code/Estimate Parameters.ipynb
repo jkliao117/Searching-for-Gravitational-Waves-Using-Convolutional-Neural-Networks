{
 "cells": [
  {
   "cell_type": "code",
   "execution_count": null,
   "metadata": {},
   "outputs": [],
   "source": [
    "from __future__ import absolute_import, division, print_function, unicode_literals\n",
    "\n",
    "import tensorflow as tf\n",
    "from tensorflow import keras\n",
    "from tensorflow.keras import datasets, layers, models\n",
    "\n",
    "import numpy as np\n",
    "import matplotlib.pyplot as plt\n",
    "from matplotlib.ticker import PercentFormatter"
   ]
  },
  {
   "cell_type": "code",
   "execution_count": null,
   "metadata": {},
   "outputs": [],
   "source": [
    "from ipynb.fs.full.LIGO_data_simulation_functions import noise, wave, dataset, norm"
   ]
  },
  {
   "cell_type": "code",
   "execution_count": null,
   "metadata": {},
   "outputs": [],
   "source": [
    "fs = 4096\n",
    "dt = 1/fs\n",
    "data_size = 5*fs\n",
    "sample_size = 10000"
   ]
  },
  {
   "cell_type": "code",
   "execution_count": null,
   "metadata": {},
   "outputs": [],
   "source": [
    "train_data, train_labels= dataset(sample_size,data_size)\n",
    "test_data, test_labels = dataset(sample_size,data_size)\n",
    "train_data = norm(train_data)\n",
    "test_data = norm(test_data)"
   ]
  },
  {
   "cell_type": "code",
   "execution_count": null,
   "metadata": {},
   "outputs": [],
   "source": [
    "train_chirp_m = train_labels[:,0]\n",
    "train_d = train_labels[:,1]\n",
    "test_chirp_m = test_labels[:,0]\n",
    "test_d = test_labels[:,1]"
   ]
  },
  {
   "cell_type": "code",
   "execution_count": null,
   "metadata": {},
   "outputs": [],
   "source": [
    "train_pm = train_labels[:,:2]\n",
    "test_pm = test_labels[:,:2]"
   ]
  },
  {
   "cell_type": "code",
   "execution_count": null,
   "metadata": {},
   "outputs": [],
   "source": [
    "np.savez(\"/Users/jkliao117/Desktop/MSci/updated simulated data/pm/train data.npz\", train_data = train_data)\n",
    "np.savez(\"/Users/jkliao117/Desktop/MSci/updated simulated data/pm/train labels.npz\", train_labels = train_labels)\n",
    "np.savez(\"/Users/jkliao117/Desktop/MSci/updated simulated data/pm/test data.npz\", test_data = test_data)\n",
    "np.savez(\"/Users/jkliao117/Desktop/MSci/updated simulated data/pm/test labels.npz\", test_labels = test_labels)"
   ]
  },
  {
   "cell_type": "code",
   "execution_count": null,
   "metadata": {},
   "outputs": [],
   "source": [
    "train_data = np.load(\"/Users/jkliao117/Desktop/MSci/updated simulated data/pm/train data.npz\")['train_data']\n",
    "train_labels = np.load(\"/Users/jkliao117/Desktop/MSci/updated simulated data/pm/train labels.npz\")['train_labels']\n",
    "test_data = np.load(\"/Users/jkliao117/Desktop/MSci/updated simulated data/pm/test data.npz\")['test_data']\n",
    "test_labels = np.load(\"/Users/jkliao117/Desktop/MSci/updated simulated data/pm/test labels.npz\")['test_labels']"
   ]
  },
  {
   "cell_type": "code",
   "execution_count": null,
   "metadata": {},
   "outputs": [],
   "source": [
    "model = models.Sequential([\n",
    "    layers.Reshape((train_data.shape[-1],1),input_shape=[train_data.shape[-1]]),\n",
    "    layers.Conv1D(16,3, activation='relu'),\n",
    "    layers.MaxPooling1D(4),\n",
    "    layers.Dense(16, activation='relu'),\n",
    "    layers.Conv1D(8,3, activation='relu'),\n",
    "    layers.MaxPooling1D(4),\n",
    "    layers.Dense(8, activation='relu'),\n",
    "    layers.Flatten(),\n",
    "    layers.Dense(256, activation='relu'),\n",
    "    layers.Dense(256, activation='relu'),\n",
    "    layers.Dense(128, activation='relu'),\n",
    "    layers.Dense(128, activation='relu'),\n",
    "    layers.Dense(64, activation='relu'),\n",
    "    layers.Dense(64, activation='relu'),\n",
    "    layers.Dense(32, activation='relu'),\n",
    "    layers.Dense(32, activation='relu'),\n",
    "    layers.Dense(2, activation='linear')\n",
    "  ])\n",
    "model.compile(optimizer='adam',\n",
    "              loss='mean_squared_error', \n",
    "              metrics=['mean_squared_error'])\n",
    "model.summary()"
   ]
  },
  {
   "cell_type": "code",
   "execution_count": null,
   "metadata": {},
   "outputs": [],
   "source": [
    "history = model.fit(train_data, train_pm, epochs=30, #30 epochs\n",
    "                    validation_data=(test_data, test_pm))"
   ]
  },
  {
   "cell_type": "code",
   "execution_count": null,
   "metadata": {},
   "outputs": [],
   "source": [
    "model.save_weights(\"/Users/jkliao117/Desktop/MSci/updated simulated data/pm/updated_pm_model_weights.ckpt\".format(epoch=30))"
   ]
  },
  {
   "cell_type": "code",
   "execution_count": null,
   "metadata": {},
   "outputs": [],
   "source": [
    "model.load_weights(\"/Users/jkliao117/Desktop/MSci/updated simulated data/pm/updated_pm_model_weights.ckpt\")"
   ]
  },
  {
   "cell_type": "code",
   "execution_count": null,
   "metadata": {},
   "outputs": [],
   "source": [
    "test_loss, test_acc = model.evaluate(test_data, test_pm, verbose=2)"
   ]
  },
  {
   "cell_type": "code",
   "execution_count": null,
   "metadata": {},
   "outputs": [],
   "source": [
    "predictions = np.reshape(model.predict(test_data),(sample_size,2))\n",
    "difference = test_pm-predictions"
   ]
  },
  {
   "cell_type": "code",
   "execution_count": null,
   "metadata": {},
   "outputs": [],
   "source": [
    "plt.figure(figsize=(8,6))\n",
    "x = np.arange(0,100,1)\n",
    "plt.scatter(test_pm[:,0],predictions[:,0],alpha=0.25)\n",
    "plt.plot(x,x,'r',alpha=0.5)\n",
    "plt.xlim(0,100)\n",
    "plt.ylim(0,100)\n",
    "plt.grid()\n",
    "plt.xlabel(\"True Chirp Mass ($M_{\\odot}$)\",fontsize=20)\n",
    "plt.ylabel(\"Predicted Chirp Mass ($M_{\\odot}$)\",fontsize=20)\n",
    "plt.xticks(fontsize=15)\n",
    "plt.yticks(fontsize=15)\n",
    "plt.tight_layout()\n",
    "#plt.savefig('/Users/jkliao117/Desktop/prediction vs label', transparent=True)"
   ]
  },
  {
   "cell_type": "code",
   "execution_count": null,
   "metadata": {},
   "outputs": [],
   "source": [
    "chirp_m_range = np.arange(10,100,10)\n",
    "avg_chirp_m_difference = np.zeros(len(chirp_m_range)-1)\n",
    "avg_chirp_m_pd = np.zeros(len(chirp_m_range)-1)\n",
    "avg_chirp_m_mean = np.zeros(len(chirp_m_range)-1)\n",
    "avg_chirp_m_std = np.zeros(len(chirp_m_range)-1)\n",
    "for i in range(len(chirp_m_range)-1):\n",
    "    mask = [(test_chirp_m>chirp_m_range[i]-5)&(test_chirp_m<chirp_m_range[i]+5)]\n",
    "    avg_chirp_m_difference[i] = np.mean(np.abs(difference)[:,0][mask])\n",
    "    avg_chirp_m_pd[i] = np.mean(np.abs(difference)[:,0][mask]/test_chirp_m[mask])\n",
    "    avg_chirp_m_mean[i] = np.mean(predictions[:,0][mask])\n",
    "    avg_chirp_m_std[i] = np.std(np.abs(difference)[:,0][mask])"
   ]
  },
  {
   "cell_type": "code",
   "execution_count": null,
   "metadata": {},
   "outputs": [],
   "source": [
    "plt.figure(figsize=(8,6))\n",
    "x = np.arange(0,100,1)\n",
    "plt.errorbar(chirp_m_range[:-1],avg_chirp_m_mean,yerr=avg_chirp_m_std,fmt='o',capsize=5)\n",
    "plt.plot(x,x,'r',alpha=0.5)\n",
    "plt.xlim(0,100)\n",
    "plt.ylim(0,100)\n",
    "plt.grid()\n",
    "plt.xlabel(\"True Chirp Mass ($M_{\\odot}$)\",fontsize=20)\n",
    "plt.ylabel(\"Predicted Chirp Mass ($M_{\\odot}$)\",fontsize=20)\n",
    "plt.xticks(fontsize=15)\n",
    "plt.yticks(fontsize=15)\n",
    "plt.tight_layout()\n",
    "#plt.savefig('/Users/jkliao117/Desktop/prediction vs label', transparent=True)"
   ]
  },
  {
   "cell_type": "code",
   "execution_count": null,
   "metadata": {},
   "outputs": [],
   "source": [
    "plt.figure(figsize=(8,6))\n",
    "x = np.arange(0,1100,1)\n",
    "plt.scatter(test_pm[:,1],predictions[:,1],alpha=0.25)\n",
    "plt.plot(x,x,'r',alpha=0.5)\n",
    "plt.xlim(10,1100)\n",
    "plt.ylim(10,1100)\n",
    "plt.grid()\n",
    "plt.xlabel(\"True Luminosity Distance ($Mpc$)\",fontsize=20)\n",
    "plt.ylabel(\"Predicted Luminosity Distance ($Mpc$)\",fontsize=20)\n",
    "plt.xticks(fontsize=15)\n",
    "plt.yticks(fontsize=15)\n",
    "plt.tight_layout()\n",
    "#plt.savefig('/Users/jkliao117/Desktop/prediction vs label', transparent=True)"
   ]
  },
  {
   "cell_type": "code",
   "execution_count": null,
   "metadata": {},
   "outputs": [],
   "source": [
    "d_range = np.arange(100,1200,100)\n",
    "avg_d_difference = np.zeros(len(d_range)-1)\n",
    "avg_d_pd = np.zeros(len(d_range)-1)\n",
    "avg_d_mean = np.zeros(len(d_range)-1)\n",
    "avg_d_std = np.zeros(len(d_range)-1)\n",
    "for i in range(len(d_range)-1):\n",
    "    mask = [(test_d>d_range[i]-50)&(test_d<d_range[i]+50)]\n",
    "    avg_d_difference[i] = np.mean(np.abs(difference)[:,1][mask])\n",
    "    avg_d_pd[i] = np.mean(np.abs(difference)[:,1][mask]/test_chirp_m[mask])\n",
    "    avg_d_mean[i] = np.mean(predictions[:,1][mask])\n",
    "    avg_d_std[i] = np.std(np.abs(difference)[:,1][mask])"
   ]
  },
  {
   "cell_type": "code",
   "execution_count": null,
   "metadata": {},
   "outputs": [],
   "source": [
    "plt.figure(figsize=(8,6))\n",
    "x = np.arange(0,1100,1)\n",
    "plt.errorbar(d_range[:-1],avg_d_mean,yerr=avg_d_std,fmt='o',capsize=5)\n",
    "plt.plot(x,x,'r',alpha=0.5)\n",
    "plt.xlim(10,1100)\n",
    "plt.ylim(10,1100)\n",
    "plt.grid()\n",
    "plt.xlabel(\"True Luminosity Distance ($Mpc$)\",fontsize=20)\n",
    "plt.ylabel(\"Predicted Luminosity Distance ($Mpc$)\",fontsize=20)\n",
    "plt.xticks(fontsize=15)\n",
    "plt.yticks(fontsize=15)\n",
    "plt.tight_layout()\n",
    "#plt.savefig('/Users/jkliao117/Desktop/prediction vs label', transparent=True)"
   ]
  },
  {
   "cell_type": "code",
   "execution_count": null,
   "metadata": {},
   "outputs": [],
   "source": [
    "chirp_m_pe = np.mean(np.abs(difference[:,0])/test_chirp_m)\n",
    "print(chirp_m_pe)"
   ]
  },
  {
   "cell_type": "code",
   "execution_count": null,
   "metadata": {},
   "outputs": [],
   "source": [
    "d_pe = np.mean(np.abs(difference[:,1])/test_d)\n",
    "print(d_pe)"
   ]
  },
  {
   "cell_type": "code",
   "execution_count": null,
   "metadata": {},
   "outputs": [],
   "source": [
    "# real LIGO events chirp mass\n",
    "real_chirp_m = np.array([28.6,15.2,8.9,21.5,7.9,35.7,25,24.2,1.186,26.7,29.3])\n",
    "real_chirp_m_error = np.array([1.5,1.1,0.3,1.7,0.2,4.7,1.6,1.1,0.001,1.7,3.2])"
   ]
  },
  {
   "cell_type": "code",
   "execution_count": null,
   "metadata": {},
   "outputs": [],
   "source": [
    "# real LIGO events distance \n",
    "real_d = np.array([430,1060,440,960,320,2750,990,580,40,1020,1850])\n",
    "real_d_error = np.array([150,480,180,410,110,1320,320,160,10,360,840])"
   ]
  },
  {
   "cell_type": "code",
   "execution_count": null,
   "metadata": {},
   "outputs": [],
   "source": [
    "real_chirp_m_pe = np.mean(real_chirp_m_error/real_chirp_m)\n",
    "print(real_chirp_m_pe)"
   ]
  },
  {
   "cell_type": "code",
   "execution_count": null,
   "metadata": {},
   "outputs": [],
   "source": [
    "real_d_pe = np.mean(real_d_error/real_d)\n",
    "print(real_d_pe)"
   ]
  }
 ],
 "metadata": {
  "kernelspec": {
   "display_name": "Python 3",
   "language": "python",
   "name": "python3"
  },
  "language_info": {
   "codemirror_mode": {
    "name": "ipython",
    "version": 3
   },
   "file_extension": ".py",
   "mimetype": "text/x-python",
   "name": "python",
   "nbconvert_exporter": "python",
   "pygments_lexer": "ipython3",
   "version": "3.7.3"
  }
 },
 "nbformat": 4,
 "nbformat_minor": 2
}
