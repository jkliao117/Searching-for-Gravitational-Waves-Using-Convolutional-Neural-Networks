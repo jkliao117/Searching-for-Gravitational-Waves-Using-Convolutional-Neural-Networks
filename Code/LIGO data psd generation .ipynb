{
 "cells": [
  {
   "cell_type": "code",
   "execution_count": null,
   "metadata": {},
   "outputs": [],
   "source": [
    "import numpy as np\n",
    "import matplotlib.mlab as mlab\n",
    "from gwpy.timeseries import TimeSeries\n",
    "from scipy import signal\n",
    "from scipy.fftpack import fft\n",
    "import datetime as dt\n",
    "from datetime import datetime"
   ]
  },
  {
   "cell_type": "code",
   "execution_count": null,
   "metadata": {},
   "outputs": [],
   "source": [
    "# define sampling frequency\n",
    "fs = 4096\n",
    "#dt = 1/fs"
   ]
  },
  {
   "cell_type": "code",
   "execution_count": null,
   "metadata": {},
   "outputs": [],
   "source": [
    "# GW event time catalog\n",
    "GW_event = ['Sep 14 2015 09:50:45',\n",
    "'Oct 12 2015 09:54:43',\n",
    "'Dec 26 2015 03:38:53',\n",
    "'Jan 04 2017 10:11:58',\n",
    "'Jun 08 2017 02:01:16',\n",
    "'Jul 29 2017 18:56:29',\n",
    "'Aug 09 2017 08:28:21',\n",
    "'Aug 14 2017 10:30:43',\n",
    "'Aug 17 2017 12:41:04',\n",
    "'Aug 18 2017 02:25:09',\n",
    "'Aug 23 2017 13:13:58']\n",
    "# change to datetime data type \n",
    "GW_time = [datetime.strptime(i,'%b %d %Y %X') for i in GW_event]"
   ]
  },
  {
   "cell_type": "code",
   "execution_count": null,
   "metadata": {},
   "outputs": [],
   "source": [
    "# define sample time (15s samples 30s before GW events)\n",
    "delta_0 = dt.timedelta(0,15)\n",
    "delta_1 = dt.timedelta(0,30)\n",
    "sample_start = [i-delta_1 for i in GW_time]\n",
    "sample_end = [i+delta_0 for i in sample_start]\n",
    "sample_size = len(sample_start)"
   ]
  },
  {
   "cell_type": "code",
   "execution_count": null,
   "metadata": {},
   "outputs": [],
   "source": [
    "# size of data = time * sampling freq\n",
    "data_size = 15*fs "
   ]
  },
  {
   "cell_type": "code",
   "execution_count": null,
   "metadata": {},
   "outputs": [],
   "source": [
    "# import data from LIGO H1\n",
    "data_H1 = np.zeros((sample_size,data_size))\n",
    "for i in range(sample_size):\n",
    "    data_H1[i] = TimeSeries.fetch_open_data('H1',sample_start[i], sample_end[i])"
   ]
  },
  {
   "cell_type": "code",
   "execution_count": null,
   "metadata": {},
   "outputs": [],
   "source": [
    "# save H1 data\n",
    "np.savez(\"/Users/jkliao117/Desktop/noise time samples H1.npz\", data_H1 = data_H1)"
   ]
  },
  {
   "cell_type": "code",
   "execution_count": null,
   "metadata": {},
   "outputs": [],
   "source": [
    "data_H1 = np.load(\"/Users/jkliao117/Desktop/noise time samples H1.npz\")['data_H1']"
   ]
  },
  {
   "cell_type": "code",
   "execution_count": null,
   "metadata": {},
   "outputs": [],
   "source": [
    "# import data from LIGO L1\n",
    "data_L1 = np.zeros((sample_size,data_size))\n",
    "for i in range(sample_size):\n",
    "    data_L1[i] = TimeSeries.fetch_open_data('L1',sample_start[i], sample_end[i])"
   ]
  },
  {
   "cell_type": "code",
   "execution_count": null,
   "metadata": {},
   "outputs": [],
   "source": [
    "# save L1 data\n",
    "np.savez(\"/Users/jkliao117/Desktop/noise time samples L1.npz\", data_L1=data_L1)"
   ]
  },
  {
   "cell_type": "code",
   "execution_count": null,
   "metadata": {},
   "outputs": [],
   "source": [
    "data_L1 = np.load(\"/Users/jkliao117/Desktop/noise time samples L1.npz\")['data_L1']"
   ]
  },
  {
   "cell_type": "code",
   "execution_count": null,
   "metadata": {},
   "outputs": [],
   "source": [
    "# generate average psd data\n",
    "def avg_psd(ligo_data):\n",
    "    (sample_size, data_size) = ligo_data.shape\n",
    "    # PSD\n",
    "    NFFT = 4*fs\n",
    "    psd_window = signal.tukey(NFFT,alpha=0.25)\n",
    "    NOVL = NFFT/2\n",
    "    psd = np.zeros((sample_size,int(NOVL+1)))\n",
    "    for i in range(0,sample_size):\n",
    "        psd[i], psdfreqs = mlab.psd(ligo_data[i], Fs = fs, NFFT = NFFT, window=psd_window, noverlap=NOVL)\n",
    "    # average PSD \n",
    "    avg_psd = np.sum(psd,axis=0)/psd.shape[0]\n",
    "    return avg_psd, psdfreqs"
   ]
  },
  {
   "cell_type": "code",
   "execution_count": null,
   "metadata": {},
   "outputs": [],
   "source": [
    "# calculate average psd data for H1 and L1 data\n",
    "avg_psd_H1, psdfreqs = avg_psd(data_H1)\n",
    "avg_psd_L1, psdfreqs = avg_psd(data_L1)"
   ]
  },
  {
   "cell_type": "code",
   "execution_count": null,
   "metadata": {},
   "outputs": [],
   "source": [
    "# save avergae psd data for H1 and L1\n",
    "np.savez(\"/Users/jkliao117/Desktop/avg psd H1.npz\", avg_psd_H1 = avg_psd_H1)\n",
    "np.savez_compressed(\"/Users/jkliao117/Desktop/avg psd L1.npz\", avg_psd_L1 = avg_psd_L1)\n",
    "np.savez(\"/Users/jkliao117/Desktop/psd freqs.npz\", psdfreqs = psdfreqs)"
   ]
  }
 ],
 "metadata": {
  "kernelspec": {
   "display_name": "Python 3",
   "language": "python",
   "name": "python3"
  },
  "language_info": {
   "codemirror_mode": {
    "name": "ipython",
    "version": 3
   },
   "file_extension": ".py",
   "mimetype": "text/x-python",
   "name": "python",
   "nbconvert_exporter": "python",
   "pygments_lexer": "ipython3",
   "version": "3.7.3"
  }
 },
 "nbformat": 4,
 "nbformat_minor": 2
}
