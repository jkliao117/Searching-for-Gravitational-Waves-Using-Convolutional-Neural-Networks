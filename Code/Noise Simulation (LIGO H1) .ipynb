{
 "cells": [
  {
   "cell_type": "code",
   "execution_count": null,
   "metadata": {},
   "outputs": [],
   "source": [
    "import numpy as np\n",
    "from gwpy.timeseries import TimeSeries\n",
    "from scipy import signal\n",
    "from scipy.fftpack import fft\n",
    "import matplotlib.pyplot as plt\n",
    "import matplotlib.mlab as mlab\n",
    "from scipy import interpolate"
   ]
  },
  {
   "cell_type": "code",
   "execution_count": null,
   "metadata": {},
   "outputs": [],
   "source": [
    "# load data\n",
    "data_H1 = np.load(\"/Users/jkliao117/Desktop/noise time samples H1.npz\")['data_H1']\n",
    "data_L1 = np.load(\"/Users/jkliao117/Desktop/noise time samples L1.npz\")['data_L1']\n",
    "avg_psd_H1 = np.load(\"/Users/jkliao117/Desktop/avg psd H1.npz\")['avg_psd_H1']\n",
    "avg_psd_L1 = np.load(\"/Users/jkliao117/Desktop/avg psd L1.npz\")['avg_psd_L1']\n",
    "psdfreqs = np.load(\"/Users/jkliao117/Desktop/psd freqs.npz\")['psdfreqs']\n",
    "(sample_size, data_size) = data_H1.shape"
   ]
  },
  {
   "cell_type": "code",
   "execution_count": null,
   "metadata": {},
   "outputs": [],
   "source": [
    "# define frequencies based on the specified data size\n",
    "fs = 4096\n",
    "dt = 1/fs\n",
    "freqs = np.fft.rfftfreq(fs*5, dt)\n",
    "# interpolate H1 psd \n",
    "interp_func_H1 = interpolate.interp1d(psdfreqs,avg_psd_H1)\n",
    "power_H1 = interp_func_H1(freqs)\n",
    "interp_func_L1 = interpolate.interp1d(psdfreqs,avg_psd_L1)\n",
    "power_L1 = interp_func_L1(freqs)"
   ]
  },
  {
   "cell_type": "code",
   "execution_count": null,
   "metadata": {},
   "outputs": [],
   "source": [
    "# noise generation\n",
    "# n(f)=np.random.normal(sigma=sqrt(P(t))/2)\n",
    "fnoise_H1 = np.random.normal(0,np.sqrt(power_H1/2))+1.j*np.random.normal(0,np.sqrt(power_H1/2))"
   ]
  },
  {
   "cell_type": "code",
   "execution_count": null,
   "metadata": {},
   "outputs": [],
   "source": [
    "# simulated noise power spectrum\n",
    "plt.figure(figsize=(10,7.5))\n",
    "plt.plot(freqs,power_L1,linewidth=1.5,label=\"Averaged Real LIGO L1 Noise\",color='darkcyan')\n",
    "plt.plot(freqs,power_H1,linewidth=1.5,label=\"Averaged Real LIGO H1 Noise\",color='darkorange')\n",
    "plt.xscale('log')\n",
    "plt.yscale('log')\n",
    "plt.grid(False)\n",
    "plt.xlabel('Frequency (Hz)',fontsize=25)\n",
    "plt.ylabel('Power Spectral Density ($Hz^{-1}$)',fontsize=25)\n",
    "plt.xticks(fontsize=20)\n",
    "plt.yticks(fontsize=20)\n",
    "plt.locator_params(tight=True)\n",
    "plt.legend(loc=\"lower left\",fontsize=20)\n",
    "plt.savefig('/Users/jkliao117/Desktop/PSD.png', transparent=True)"
   ]
  },
  {
   "cell_type": "code",
   "execution_count": null,
   "metadata": {},
   "outputs": [],
   "source": [
    "# simulated noise power spectrum\n",
    "plt.figure(figsize=(10,7.5))\n",
    "plt.plot(freqs,abs(fnoise_H1)**2,linewidth=1.5,label=\"Simulated Noise\")\n",
    "plt.plot(psdfreqs,avg_psd_H1,linewidth=1.5,label=\"Averaged Real LIGO H1 Noise\")\n",
    "plt.xscale('log')\n",
    "plt.yscale('log')\n",
    "plt.grid(False)\n",
    "plt.xlabel('Frequency (Hz)',fontsize=25)\n",
    "plt.ylabel('Power Spectral Density ($Hz^{-1}$)',fontsize=25)\n",
    "plt.xticks(fontsize=20)\n",
    "plt.yticks(fontsize=20)\n",
    "plt.locator_params(tight=True)\n",
    "plt.legend(loc=\"lower left\",fontsize=20)\n",
    "plt.savefig('/Users/jkliao117/Desktop/PSD_sim.png', transparent=True)"
   ]
  },
  {
   "cell_type": "code",
   "execution_count": null,
   "metadata": {},
   "outputs": [],
   "source": [
    "# bandpass\n",
    "# [35,350]Hz window recommended by \"A guide to LIGO-Virgo detector noise and extraction of transient gravitational-wave signals\"\n",
    "fs = 4096\n",
    "f_high_pass = 35\n",
    "f_low_pass = 350\n",
    "mask = (freqs > f_high_pass) & (freqs < f_low_pass)\n",
    "bandp = signal.tukey(np.sum(mask),alpha=0.25)\n",
    "fnoise_H1_banded = np.zeros_like(fnoise_H1)\n",
    "fnoise_H1_banded[mask] = fnoise_H1[mask]*bandp\n",
    "\n",
    "# inverse FFT\n",
    "tnoise_H1 = (fs**0.5)*np.fft.irfft(fnoise_H1_banded,norm=\"ortho\")\n",
    "tnoise_H1_size = tnoise_H1.shape[0]\n",
    "time = np.arange(0,tnoise_H1_size)/fs"
   ]
  },
  {
   "cell_type": "code",
   "execution_count": null,
   "metadata": {},
   "outputs": [],
   "source": [
    "plt.figure(figsize=(10,7.5))\n",
    "plt.plot(freqs,abs(fnoise_H1)**2,label=\"Simulated Noise\")\n",
    "plt.plot(freqs[mask],(np.abs(fnoise_H1)**2)[mask],label=\"Simulated Noise (Bandpassed)\",color='salmon')\n",
    "plt.plot(freqs[mask],(np.abs(fnoise_H1)**2)[mask]*bandp,label=\"Simulated Noise (Bandpassed and Windowed)\",color='mediumseagreen')\n",
    "plt.xscale('log')\n",
    "plt.yscale('log')\n",
    "plt.grid(False)\n",
    "plt.xlabel('Frequency (Hz)',fontsize=25)\n",
    "plt.ylabel('Power Spectral Density ($Hz^{-1}$)',fontsize=25)\n",
    "plt.xticks(fontsize=20)\n",
    "plt.yticks(fontsize=20)\n",
    "plt.locator_params(tight=True)\n",
    "plt.legend(loc=\"lower left\",fontsize=20)\n",
    "plt.savefig('/Users/jkliao117/Desktop/PSD_sim_bpwd.png', transparent=True)"
   ]
  },
  {
   "cell_type": "code",
   "execution_count": null,
   "metadata": {},
   "outputs": [],
   "source": [
    "# bandpassing real LIGO noise data\n",
    "\n",
    "# FFT\n",
    "bandpt = signal.tukey(data_size,alpha=0.25)\n",
    "fdata_H1 = np.fft.rfft(data_H1*bandpt,norm=\"ortho\")\n",
    "ffreq_H1 = np.fft.rfftfreq(data_size, d=1/fs)\n",
    "\n",
    "# bandpass\n",
    "maskf = (ffreq_H1 > f_high_pass) & (ffreq_H1 < f_low_pass)\n",
    "bandpf = signal.tukey(np.sum(maskf),alpha=0.25)\n",
    "fdata_H1_banded = np.zeros_like(fdata_H1)\n",
    "for i in range(sample_size):\n",
    "    fdata_H1_banded[i][maskf] = fdata_H1[i][maskf]*bandpf\n",
    "    \n",
    "# inverse FFT\n",
    "tdata_H1_banded = np.fft.irfft(fdata_H1_banded,norm=\"ortho\")\n",
    "tdata_H1_size = tdata_H1_banded.shape[1]\n",
    "tdata_H1_time = np.arange(0,tdata_H1_size)/fs"
   ]
  },
  {
   "cell_type": "code",
   "execution_count": null,
   "metadata": {},
   "outputs": [],
   "source": [
    "fig, ax = plt.subplots(figsize=(10,5.5)) \n",
    "ax.yaxis.get_offset_text().set_fontsize(15)\n",
    "plt.plot(time,tnoise_H1,label=\"Simulated Noise\")\n",
    "plt.grid(False)\n",
    "plt.xlabel('Time (s)',fontsize=25)\n",
    "plt.ylabel('Strain',fontsize=25)\n",
    "plt.xticks(fontsize=20)\n",
    "plt.yticks(fontsize=20)\n",
    "plt.locator_params(tight=True)\n",
    "plt.legend(loc=\"lower left\",fontsize=20)\n",
    "plt.locator_params(tight=True)\n",
    "plt.savefig('/Users/jkliao117/Desktop/sim_tnoise.png', transparent=True)"
   ]
  },
  {
   "cell_type": "code",
   "execution_count": null,
   "metadata": {},
   "outputs": [],
   "source": [
    "fig, ax = plt.subplots(figsize=(10,5)) \n",
    "ax.yaxis.get_offset_text().set_fontsize(15)\n",
    "plt.plot(time,tnoise_H1,label=\"Simulated Noise\")\n",
    "plt.plot(time[:int(fs*5)],tdata_H1_banded[0][int(fs*5):int(fs*10)],label=\"Real LIGO H1 Noise (Bandpassed)\",alpha=0.75)\n",
    "plt.grid(False)\n",
    "plt.xlabel('Time (s)',fontsize=25)\n",
    "plt.ylabel('Strain',fontsize=25)\n",
    "plt.xticks(fontsize=20)\n",
    "plt.yticks(fontsize=20)\n",
    "plt.locator_params(tight=True)\n",
    "plt.legend(loc=\"lower left\",fontsize=20)\n",
    "plt.ylim(-1.25e-21,1.25e-21)\n",
    "plt.savefig('/Users/jkliao117/Desktop/sim_tnoise_comp1.png', transparent=True)"
   ]
  },
  {
   "cell_type": "code",
   "execution_count": null,
   "metadata": {},
   "outputs": [],
   "source": [
    "fig, ax = plt.subplots(figsize=(10,5)) \n",
    "ax.yaxis.get_offset_text().set_fontsize(15)\n",
    "plt.plot(time[:int(fs*0.1)],tnoise_H1[:int(fs*0.1)],label=\"Simulated Noise\")\n",
    "plt.plot(tdata_H1_time[:int(fs*0.1)],tdata_H1_banded[0][int(fs*5):int(fs*5.1)],label=\"Real LIGO H1 Noise (Bandpassed)\")\n",
    "plt.grid(False)\n",
    "plt.xlabel('Time (s)',fontsize=25)\n",
    "plt.ylabel('Strain',fontsize=25)\n",
    "plt.xticks(fontsize=20)\n",
    "plt.yticks(fontsize=20)\n",
    "plt.locator_params(tight=True)\n",
    "plt.legend(loc=\"lower left\",fontsize=20)\n",
    "plt.ylim(-1.25e-21,1.25e-21)\n",
    "plt.savefig('/Users/jkliao117/Desktop/sim_tnoise_comp2.png', transparent=True)"
   ]
  },
  {
   "cell_type": "code",
   "execution_count": null,
   "metadata": {},
   "outputs": [],
   "source": [
    "fig, ax = plt.subplots(figsize=(10,5)) \n",
    "ax.yaxis.get_offset_text().set_fontsize(15)\n",
    "plt.plot(tdata_H1_time, tdata_H1_banded[0], label = \"GW150914\")\n",
    "plt.plot(tdata_H1_time, tdata_H1_banded[1], label = \"GW151012\")\n",
    "plt.plot(tdata_H1_time, tdata_H1_banded[2], label = \"GW151226\")\n",
    "plt.plot(tdata_H1_time, tdata_H1_banded[3], label = \"GW170104\")\n",
    "plt.plot(tdata_H1_time, tdata_H1_banded[4], label = \"GW170608\")\n",
    "plt.plot(tdata_H1_time, tdata_H1_banded[5], label = \"GW170729\")\n",
    "plt.plot(tdata_H1_time, tdata_H1_banded[6], label = \"GW170809\")\n",
    "plt.plot(tdata_H1_time, tdata_H1_banded[7], label = \"GW170814\")\n",
    "plt.plot(tdata_H1_time, tdata_H1_banded[8], label = \"GW170817\")\n",
    "plt.plot(tdata_H1_time, tdata_H1_banded[9], label = \"GW170818\")\n",
    "plt.plot(tdata_H1_time, tdata_H1_banded[10], label = \"GW170823\")\n",
    "plt.grid(False)\n",
    "plt.xlabel('Time (s)',fontsize=20)\n",
    "plt.xlim(0,20)\n",
    "plt.ylabel('Strain',fontsize=20)\n",
    "plt.xticks(fontsize=15)\n",
    "plt.yticks(fontsize=15)\n",
    "plt.locator_params(tight=True)\n",
    "plt.legend(loc=\"lower right\",fontsize=15)"
   ]
  }
 ],
 "metadata": {
  "kernelspec": {
   "display_name": "Python 3",
   "language": "python",
   "name": "python3"
  },
  "language_info": {
   "codemirror_mode": {
    "name": "ipython",
    "version": 3
   },
   "file_extension": ".py",
   "mimetype": "text/x-python",
   "name": "python",
   "nbconvert_exporter": "python",
   "pygments_lexer": "ipython3",
   "version": "3.7.3"
  }
 },
 "nbformat": 4,
 "nbformat_minor": 2
}
