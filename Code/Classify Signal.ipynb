{
 "cells": [
  {
   "cell_type": "code",
   "execution_count": null,
   "metadata": {},
   "outputs": [],
   "source": [
    "from __future__ import absolute_import, division, print_function, unicode_literals\n",
    "\n",
    "import tensorflow as tf\n",
    "from tensorflow import keras\n",
    "from tensorflow.keras import datasets, layers, models\n",
    "\n",
    "import numpy as np\n",
    "import matplotlib.pyplot as plt\n",
    "from matplotlib.ticker import PercentFormatter"
   ]
  },
  {
   "cell_type": "code",
   "execution_count": null,
   "metadata": {},
   "outputs": [],
   "source": [
    "from ipynb.fs.full.LIGO_data_simulation_functions import noise, wave, classify_dataset, norm"
   ]
  },
  {
   "cell_type": "code",
   "execution_count": null,
   "metadata": {},
   "outputs": [],
   "source": [
    "fs = 4096\n",
    "dt = 1/fs\n",
    "data_size = 5*fs\n",
    "sample_size = 10000"
   ]
  },
  {
   "cell_type": "code",
   "execution_count": null,
   "metadata": {},
   "outputs": [],
   "source": [
    "# generate data\n",
    "train_data, train_labels= classify_dataset(sample_size,data_size)\n",
    "test_data, test_labels = classify_dataset(sample_size,data_size)\n",
    "train_data = norm(train_data)\n",
    "test_data = norm(test_data)"
   ]
  },
  {
   "cell_type": "code",
   "execution_count": null,
   "metadata": {},
   "outputs": [],
   "source": [
    "train_class = train_labels[:,0]\n",
    "train_snr = train_labels[:,1]\n",
    "test_class = test_labels[:,0]\n",
    "test_snr = test_labels[:,1]"
   ]
  },
  {
   "cell_type": "code",
   "execution_count": null,
   "metadata": {},
   "outputs": [],
   "source": [
    "# save data\n",
    "np.savez(\"/Users/jkliao117/Desktop/MSci/updated simulated data/train data.npz\", train_data=train_data)\n",
    "np.savez(\"/Users/jkliao117/Desktop/MSci/updated simulated data/train labels.npz\", train_labels=train_labels)\n",
    "np.savez(\"/Users/jkliao117/Desktop/MSci/updated simulated data/test data.npz\", test_data=test_data)\n",
    "np.savez(\"/Users/jkliao117/Desktop/MSci/updated simulated data/test labels.npz\", test_labels=test_labels)"
   ]
  },
  {
   "cell_type": "code",
   "execution_count": null,
   "metadata": {},
   "outputs": [],
   "source": [
    "# import data \n",
    "train_data = np.load(\"/Users/jkliao117/Desktop/MSci/updated simulated data/train data.npz\")['train_data']\n",
    "train_labels = np.load(\"/Users/jkliao117/Desktop/MSci/updated simulated data/train labels.npz\")['train_labels']\n",
    "test_data = np.load(\"/Users/jkliao117/Desktop/MSci/updated simulated data/test data.npz\")['test_data']\n",
    "test_labels = np.load(\"/Users/jkliao117/Desktop/MSci/updated simulated data/test labels.npz\")['test_labels']"
   ]
  },
  {
   "cell_type": "code",
   "execution_count": null,
   "metadata": {},
   "outputs": [],
   "source": [
    "# CNN\n",
    "model = models.Sequential([\n",
    "    layers.Reshape((train_data.shape[-1],1),input_shape=[train_data.shape[-1]]),\n",
    "    layers.Conv1D(8,3, activation='relu'),\n",
    "    layers.MaxPooling1D(4),\n",
    "    layers.Dense(8, activation='relu'),\n",
    "    layers.Flatten(),\n",
    "    layers.Dense(128, activation='relu'),\n",
    "    layers.Dense(64, activation='relu'),\n",
    "    layers.Dense(32, activation='relu'),\n",
    "    layers.Dense(16, activation='relu'),\n",
    "    layers.Dense(8, activation='relu'),\n",
    "    layers.Dense(1, activation='sigmoid')\n",
    "  ])\n",
    "model.compile(optimizer='adam',\n",
    "              loss='binary_crossentropy',\n",
    "              metrics=['accuracy'])\n",
    "model.summary()"
   ]
  },
  {
   "cell_type": "code",
   "execution_count": null,
   "metadata": {
    "scrolled": true
   },
   "outputs": [],
   "source": [
    "# train CNN\n",
    "history = model.fit(train_data, train_class, epochs=30, \n",
    "                    validation_data=(test_data, test_class))"
   ]
  },
  {
   "cell_type": "code",
   "execution_count": null,
   "metadata": {},
   "outputs": [],
   "source": [
    "model.save_weights(\"/Users/jkliao117/Desktop/MSci/updated simulated data/class_model_weights.ckpt\".format(epoch=30))"
   ]
  },
  {
   "cell_type": "code",
   "execution_count": null,
   "metadata": {},
   "outputs": [],
   "source": [
    "model.load_weights(\"/Users/jkliao117/Desktop/MSci/updated simulated data/class_model_weights.ckpt\")"
   ]
  },
  {
   "cell_type": "code",
   "execution_count": null,
   "metadata": {},
   "outputs": [],
   "source": [
    "# evaluate CNN on test data\n",
    "test_loss, test_acc = model.evaluate(test_data, test_class, verbose=2)\n",
    "predictions = np.reshape(np.rint(model.predict(test_data)),(sample_size,))\n",
    "difference = predictions-test_class"
   ]
  },
  {
   "cell_type": "code",
   "execution_count": null,
   "metadata": {},
   "outputs": [],
   "source": [
    "binary_difference = np.rint(difference)\n",
    "snr_range = np.arange(0,5,0.01)\n",
    "snr_accuracy = np.zeros_like(snr_range)\n",
    "signal_sample_size = np.sum(test_class != 0)\n",
    "for i in range(len(snr_range)):\n",
    "    mask = (test_snr > snr_range[i])\n",
    "    snr_accuracy[i] = np.sum(binary_difference[mask] == 0)/np.sum(mask)    "
   ]
  },
  {
   "cell_type": "code",
   "execution_count": null,
   "metadata": {},
   "outputs": [],
   "source": [
    "print(\"for GW signal with SNR greater than\", snr_range[-1], \", the model gives an accuracy of\", snr_accuracy[-1]*100, \"%\")"
   ]
  },
  {
   "cell_type": "code",
   "execution_count": null,
   "metadata": {
    "scrolled": true
   },
   "outputs": [],
   "source": [
    "plt.figure(figsize=(7.5,5))\n",
    "plt.plot(snr_range,snr_accuracy*100, linewidth=2, color=\"steelblue\")\n",
    "plt.xlabel(\"Signal-to-Noise Ratio\",fontsize=20)\n",
    "plt.ylabel(\"Accuracy (%)\",fontsize=20)\n",
    "plt.ylim(94.5,100.5)\n",
    "plt.xticks(fontsize=15)\n",
    "plt.yticks(fontsize=15)\n",
    "plt.locator_params(axis='x',nbins=8)\n",
    "plt.locator_params(axis='y',nbins=8)\n",
    "#plt.xscale('log')\n",
    "#plt.yscale('log')"
   ]
  },
  {
   "cell_type": "code",
   "execution_count": null,
   "metadata": {},
   "outputs": [],
   "source": [
    "mask0 = (test_class == 0) #negative\n",
    "mask1 = (test_class == 1) #positive\n",
    "TP = np.sum(predictions[mask1]==1)\n",
    "FP = np.sum(predictions[mask0]==1)\n",
    "TN = np.sum(predictions[mask0]==0)\n",
    "FN = np.sum(predictions[mask1]==0)\n",
    "false_positive = FP/(FP+TN)\n",
    "false_negative = FN/(FN+TP)"
   ]
  },
  {
   "cell_type": "code",
   "execution_count": null,
   "metadata": {},
   "outputs": [],
   "source": [
    "print(false_positive)\n",
    "print(false_negative)"
   ]
  },
  {
   "cell_type": "code",
   "execution_count": null,
   "metadata": {},
   "outputs": [],
   "source": [
    "mask_small = [(test_snr>0)&(test_snr<1)]\n",
    "sens_small = np.sum(binary_difference[mask_small] == 0)/np.sum(mask_small)    \n",
    "snr_range = np.arange(0,10,0.5)\n",
    "sensitivity = np.zeros(len(snr_range))\n",
    "for i in range(len(snr_range)):\n",
    "    mask = [(test_snr>0)&(test_snr>snr_range[i]) & (test_snr<(snr_range[i]+0.5))]\n",
    "    sensitivity[i] = np.sum(binary_difference[mask]==0)/np.sum(mask)"
   ]
  },
  {
   "cell_type": "code",
   "execution_count": null,
   "metadata": {},
   "outputs": [],
   "source": [
    "plt.figure(figsize=(7.5,5))\n",
    "plt.plot(snr_range+0.5,snr_range*0+100, color=\"r\")\n",
    "plt.plot(snr_range+0.5,sensitivity*100,\"o\") #color=\"steelblue\")\n",
    "plt.xlabel(\"Signal-to-Noise Ratio\",fontsize=20)\n",
    "plt.ylabel(\"Sensitivity (%)\",fontsize=20)\n",
    "plt.ylim(82.5,102.5)\n",
    "plt.grid()\n",
    "plt.xlim(0,10.5)\n",
    "plt.xticks(fontsize=15)\n",
    "plt.yticks(fontsize=15)\n",
    "plt.locator_params(axis='x',nbins=16)\n",
    "plt.locator_params(axis='y',nbins=4)"
   ]
  }
 ],
 "metadata": {
  "kernelspec": {
   "display_name": "Python 3",
   "language": "python",
   "name": "python3"
  },
  "language_info": {
   "codemirror_mode": {
    "name": "ipython",
    "version": 3
   },
   "file_extension": ".py",
   "mimetype": "text/x-python",
   "name": "python",
   "nbconvert_exporter": "python",
   "pygments_lexer": "ipython3",
   "version": "3.7.3"
  }
 },
 "nbformat": 4,
 "nbformat_minor": 2
}
